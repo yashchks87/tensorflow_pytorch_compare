{
 "cells": [
  {
   "cell_type": "code",
   "execution_count": 1,
   "metadata": {},
   "outputs": [],
   "source": [
    "import torch\n",
    "import glob\n",
    "import numpy as np\n",
    "import torchvision\n",
    "import glob\n",
    "from sklearn.model_selection import train_test_split\n",
    "from torch.utils.data import Dataset, DataLoader\n",
    "import torch.nn as nn\n",
    "import torch.optim as optim\n",
    "import time\n",
    "from tqdm import tqdm"
   ]
  },
  {
   "cell_type": "code",
   "execution_count": 2,
   "metadata": {},
   "outputs": [],
   "source": [
    "device = torch.device('cuda' if torch.cuda.is_available() else 'cpu')"
   ]
  },
  {
   "cell_type": "code",
   "execution_count": 3,
   "metadata": {},
   "outputs": [
    {
     "data": {
      "text/plain": [
       "device(type='cuda')"
      ]
     },
     "execution_count": 3,
     "metadata": {},
     "output_type": "execute_result"
    }
   ],
   "source": [
    "device"
   ]
  },
  {
   "cell_type": "code",
   "execution_count": 4,
   "metadata": {},
   "outputs": [],
   "source": [
    "data = glob.glob('../data/train/*.jpg')"
   ]
  },
  {
   "cell_type": "code",
   "execution_count": 5,
   "metadata": {},
   "outputs": [],
   "source": [
    "labels = []\n",
    "for x in data:\n",
    "    # dog = 1\n",
    "    # cat = 0\n",
    "    if 'dog' in x:\n",
    "        labels.append(1)\n",
    "    else:\n",
    "        labels.append(0)"
   ]
  },
  {
   "cell_type": "code",
   "execution_count": 6,
   "metadata": {},
   "outputs": [],
   "source": [
    "train_data = [(data[x], labels[x]) for x in range(len(data))]"
   ]
  },
  {
   "cell_type": "code",
   "execution_count": 7,
   "metadata": {},
   "outputs": [],
   "source": [
    "def split_datasets(dataset):\n",
    "    train, test = train_test_split(dataset, test_size=0.05, random_state=42)\n",
    "    train, val = train_test_split(train, test_size=0.05, random_state=42)\n",
    "    return train, val, test"
   ]
  },
  {
   "cell_type": "code",
   "execution_count": 8,
   "metadata": {},
   "outputs": [],
   "source": [
    "train, val, test = split_datasets(train_data)"
   ]
  },
  {
   "cell_type": "code",
   "execution_count": 9,
   "metadata": {},
   "outputs": [
    {
     "name": "stdout",
     "output_type": "stream",
     "text": [
      "Train: 22562\n",
      "Val: 1188\n",
      "Test: 1250\n"
     ]
    }
   ],
   "source": [
    "print(f'Train: {len(train)}')\n",
    "print(f'Val: {len(val)}')\n",
    "print(f'Test: {len(test)}')"
   ]
  },
  {
   "cell_type": "code",
   "execution_count": 10,
   "metadata": {},
   "outputs": [],
   "source": [
    "class CatDogDataeset(Dataset):\n",
    "    def __init__(self, data_list):\n",
    "        self.imgs = [x[0] for x in data_list]\n",
    "        self.labels = [x[1] for x in data_list]\n",
    "    def __len__(self):\n",
    "        return len(self.imgs)\n",
    "    def __getitem__(self, idx):\n",
    "        img = torchvision.io.read_image(self.imgs[idx])\n",
    "        img = torchvision.transforms.Resize(size = (256, 256))(img)\n",
    "        img = img / 255\n",
    "        return (img, self.labels[idx])"
   ]
  },
  {
   "cell_type": "code",
   "execution_count": 11,
   "metadata": {},
   "outputs": [],
   "source": [
    "train_dataset = CatDogDataeset(train)\n",
    "train_loader = DataLoader(train_dataset, batch_size = 32, shuffle = True)\n",
    "val_dataset = CatDogDataeset(val)\n",
    "val_loader = DataLoader(val_dataset, batch_size = 32, shuffle = True)\n",
    "data_dict = {\n",
    "    'train': train_loader,\n",
    "    'val': val_loader\n",
    "}"
   ]
  },
  {
   "cell_type": "code",
   "execution_count": 70,
   "metadata": {},
   "outputs": [],
   "source": [
    "res_50_model = torchvision.models.resnet50(weights=None, progress=True)\n",
    "num_flts = res_50_model.fc.in_features\n",
    "res_50_model.fc = nn.Linear(num_flts, 2)\n",
    "res_50_model = res_50_model.to(device)\n",
    "criterion = nn.CrossEntropyLoss()\n",
    "optimizer = optim.SGD(res_50_model.parameters(), lr=0.01)"
   ]
  },
  {
   "cell_type": "code",
   "execution_count": 71,
   "metadata": {},
   "outputs": [],
   "source": [
    "def train_model(model, criterion, optimizer, num_epochs = 5):\n",
    "    since = time.time()\n",
    "    best_acc = 0.0\n",
    "    for epoch in range(num_epochs):\n",
    "        print(f'Epoch: {epoch}/{num_epochs - 1}')\n",
    "        print('-' * 10)\n",
    "        for phase in ['train', 'val']:\n",
    "            if phase == 'train': \n",
    "                model.train() # Setting model on training mode\n",
    "            else:\n",
    "                model.eval() # Setting model on eval mode\n",
    "            # This monitors mostly batch level metrics.\n",
    "            running_loss = 0\n",
    "            running_corrects = 0\n",
    "            print(f'For: {phase}')\n",
    "            for imgs, labels in tqdm(data_dict[phase]):\n",
    "                imgs = imgs.to(device)\n",
    "                labels = labels.to(device)\n",
    "                optimizer.zero_grad() # This just zeros the gradients not actaul all weights\n",
    "                # only forward propogation\n",
    "                # track hist if it's in train mode\n",
    "                with torch.set_grad_enabled(phase == 'train'):\n",
    "                    outputs = model(imgs)\n",
    "                    _, preds = torch.max(outputs, 1)\n",
    "                    loss = criterion(outputs, labels)\n",
    "\n",
    "                    # if phase is train then do backprop and optimize as well\n",
    "                    if phase == 'train':\n",
    "                        loss.backward()\n",
    "                        optimizer.step()\n",
    "                # Stats\n",
    "                running_loss += loss.item() * imgs.size(0)\n",
    "                running_corrects += torch.sum(preds == labels.data)\n",
    "                \n",
    "            epoch_loss = running_loss / len(data_dict[phase])\n",
    "            epoch_acc = running_corrects.double() / len(data_dict[phase])\n",
    "\n",
    "            print(f'{phase} Loss: {epoch_loss:.4f} Acc: {epoch_acc:.4f}')\n",
    "    time_elapsed = time.time() - since\n",
    "    print(f'Time spent: {time_elapsed}')"
   ]
  },
  {
   "cell_type": "code",
   "execution_count": 72,
   "metadata": {},
   "outputs": [
    {
     "name": "stdout",
     "output_type": "stream",
     "text": [
      "Epoch: 0/4\n",
      "----------\n",
      "For: train\n"
     ]
    },
    {
     "name": "stderr",
     "output_type": "stream",
     "text": [
      "100%|██████████| 706/706 [02:22<00:00,  4.94it/s]\n"
     ]
    },
    {
     "name": "stdout",
     "output_type": "stream",
     "text": [
      "train Loss: 31.5450 Acc: 17.2465\n",
      "For: val\n"
     ]
    },
    {
     "name": "stderr",
     "output_type": "stream",
     "text": [
      "100%|██████████| 38/38 [00:04<00:00,  9.27it/s]\n"
     ]
    },
    {
     "name": "stdout",
     "output_type": "stream",
     "text": [
      "val Loss: 24.2968 Acc: 17.8684\n",
      "Epoch: 1/4\n",
      "----------\n",
      "For: train\n"
     ]
    },
    {
     "name": "stderr",
     "output_type": "stream",
     "text": [
      "100%|██████████| 706/706 [02:23<00:00,  4.91it/s]\n"
     ]
    },
    {
     "name": "stdout",
     "output_type": "stream",
     "text": [
      "train Loss: 22.3363 Acc: 20.0127\n",
      "For: val\n"
     ]
    },
    {
     "name": "stderr",
     "output_type": "stream",
     "text": [
      "100%|██████████| 38/38 [00:04<00:00,  9.23it/s]\n"
     ]
    },
    {
     "name": "stdout",
     "output_type": "stream",
     "text": [
      "val Loss: 34.8845 Acc: 16.5263\n",
      "Epoch: 2/4\n",
      "----------\n",
      "For: train\n"
     ]
    },
    {
     "name": "stderr",
     "output_type": "stream",
     "text": [
      "100%|██████████| 706/706 [02:23<00:00,  4.91it/s]\n"
     ]
    },
    {
     "name": "stdout",
     "output_type": "stream",
     "text": [
      "train Loss: 20.8006 Acc: 20.9518\n",
      "For: val\n"
     ]
    },
    {
     "name": "stderr",
     "output_type": "stream",
     "text": [
      "100%|██████████| 38/38 [00:04<00:00,  9.27it/s]\n"
     ]
    },
    {
     "name": "stdout",
     "output_type": "stream",
     "text": [
      "val Loss: 56.1664 Acc: 17.5263\n",
      "Epoch: 3/4\n",
      "----------\n",
      "For: train\n"
     ]
    },
    {
     "name": "stderr",
     "output_type": "stream",
     "text": [
      "100%|██████████| 706/706 [02:23<00:00,  4.91it/s]\n"
     ]
    },
    {
     "name": "stdout",
     "output_type": "stream",
     "text": [
      "train Loss: 19.5992 Acc: 21.9278\n",
      "For: val\n"
     ]
    },
    {
     "name": "stderr",
     "output_type": "stream",
     "text": [
      "100%|██████████| 38/38 [00:04<00:00,  9.28it/s]\n"
     ]
    },
    {
     "name": "stdout",
     "output_type": "stream",
     "text": [
      "val Loss: 33.2255 Acc: 18.8947\n",
      "Epoch: 4/4\n",
      "----------\n",
      "For: train\n"
     ]
    },
    {
     "name": "stderr",
     "output_type": "stream",
     "text": [
      "100%|██████████| 706/706 [02:23<00:00,  4.92it/s]\n"
     ]
    },
    {
     "name": "stdout",
     "output_type": "stream",
     "text": [
      "train Loss: 18.5638 Acc: 22.6671\n",
      "For: val\n"
     ]
    },
    {
     "name": "stderr",
     "output_type": "stream",
     "text": [
      "100%|██████████| 38/38 [00:04<00:00,  9.27it/s]"
     ]
    },
    {
     "name": "stdout",
     "output_type": "stream",
     "text": [
      "val Loss: 27.4522 Acc: 20.8684\n",
      "Time spent: 738.1961028575897\n"
     ]
    },
    {
     "name": "stderr",
     "output_type": "stream",
     "text": [
      "\n"
     ]
    }
   ],
   "source": [
    "x = train_model(res_50_model, criterion, optimizer)"
   ]
  },
  {
   "attachments": {},
   "cell_type": "markdown",
   "metadata": {},
   "source": [
    "Making model with keras type arch"
   ]
  },
  {
   "cell_type": "code",
   "execution_count": 12,
   "metadata": {},
   "outputs": [],
   "source": [
    "res_50_model = torchvision.models.resnet50(weights=None, progress=True)\n",
    "num_flts = res_50_model.fc.in_features\n",
    "res_50_model.fc = nn.Sequential(\n",
    "    nn.Linear(num_flts, 1), # this way we can use this layer as linear\n",
    "    nn.Sigmoid() # Apply sigmoid after \n",
    ")\n",
    "res_50_model = res_50_model.to(device)\n",
    "criterion = nn.BCELoss()\n",
    "optimizer = optim.SGD(res_50_model.parameters(), lr=0.01)"
   ]
  },
  {
   "cell_type": "code",
   "execution_count": 15,
   "metadata": {},
   "outputs": [],
   "source": [
    "def train_model(model, criterion, optimizer, num_epochs = 5):\n",
    "    since = time.time()\n",
    "    best_acc = 0.0\n",
    "    for epoch in range(num_epochs):\n",
    "        print(f'Epoch: {epoch}/{num_epochs - 1}')\n",
    "        print('-' * 10)\n",
    "        for phase in ['train', 'val']:\n",
    "            if phase == 'train': \n",
    "                model.train() # Setting model on training mode\n",
    "            else:\n",
    "                model.eval() # Setting model on eval mode\n",
    "            # This monitors mostly batch level metrics.\n",
    "            running_loss = 0\n",
    "            running_corrects = 0\n",
    "            print(f'For: {phase}')\n",
    "            for imgs, labels in tqdm(data_dict[phase]):\n",
    "                imgs = imgs.to(device)\n",
    "                labels = labels.to(device)\n",
    "                optimizer.zero_grad() # This just zeros the gradients not actaul all weights\n",
    "                # only forward propogation\n",
    "                # track hist if it's in train mode\n",
    "                with torch.set_grad_enabled(phase == 'train'):\n",
    "                    outputs = model(imgs)\n",
    "                    labels = labels.reshape(-1, 1).float()\n",
    "                    preds = torch.where(outputs < 0.5, 0.0, 1.0)\n",
    "                    loss = criterion(outputs, labels)\n",
    "                    # if phase is train then do backprop and optimize as well\n",
    "                    if phase == 'train':\n",
    "                        loss.backward()\n",
    "                        optimizer.step()\n",
    "                # Stats\n",
    "                running_loss += loss.item() * imgs.size(0)\n",
    "                running_corrects += torch.sum(preds == labels.data)\n",
    "                \n",
    "            epoch_loss = running_loss / len(data_dict[phase])\n",
    "            epoch_acc = running_corrects.double() / len(data_dict[phase])\n",
    "\n",
    "            print(f'{phase} Loss: {epoch_loss:.4f} Acc: {epoch_acc:.4f}')\n",
    "    time_elapsed = time.time() - since\n",
    "    print(f'Time spent: {time_elapsed}')"
   ]
  },
  {
   "cell_type": "code",
   "execution_count": 16,
   "metadata": {},
   "outputs": [
    {
     "name": "stdout",
     "output_type": "stream",
     "text": [
      "Epoch: 0/4\n",
      "----------\n",
      "For: train\n"
     ]
    },
    {
     "name": "stderr",
     "output_type": "stream",
     "text": [
      "100%|██████████| 706/706 [02:57<00:00,  3.98it/s]\n"
     ]
    },
    {
     "name": "stdout",
     "output_type": "stream",
     "text": [
      "train Loss: 22.0004 Acc: 19.4448\n",
      "For: val\n"
     ]
    },
    {
     "name": "stderr",
     "output_type": "stream",
     "text": [
      "100%|██████████| 38/38 [00:05<00:00,  6.64it/s]\n"
     ]
    },
    {
     "name": "stdout",
     "output_type": "stream",
     "text": [
      "val Loss: 25.2253 Acc: 19.5000\n",
      "Epoch: 1/4\n",
      "----------\n",
      "For: train\n"
     ]
    },
    {
     "name": "stderr",
     "output_type": "stream",
     "text": [
      "100%|██████████| 706/706 [02:57<00:00,  3.98it/s]\n"
     ]
    },
    {
     "name": "stdout",
     "output_type": "stream",
     "text": [
      "train Loss: 20.5346 Acc: 20.7677\n",
      "For: val\n"
     ]
    },
    {
     "name": "stderr",
     "output_type": "stream",
     "text": [
      "100%|██████████| 38/38 [00:05<00:00,  6.49it/s]\n"
     ]
    },
    {
     "name": "stdout",
     "output_type": "stream",
     "text": [
      "val Loss: 46.6605 Acc: 15.1579\n",
      "Epoch: 2/4\n",
      "----------\n",
      "For: train\n"
     ]
    },
    {
     "name": "stderr",
     "output_type": "stream",
     "text": [
      "100%|██████████| 706/706 [02:58<00:00,  3.95it/s]\n"
     ]
    },
    {
     "name": "stdout",
     "output_type": "stream",
     "text": [
      "train Loss: 19.2167 Acc: 21.9008\n",
      "For: val\n"
     ]
    },
    {
     "name": "stderr",
     "output_type": "stream",
     "text": [
      "100%|██████████| 38/38 [00:05<00:00,  6.77it/s]\n"
     ]
    },
    {
     "name": "stdout",
     "output_type": "stream",
     "text": [
      "val Loss: 21.0793 Acc: 20.0526\n",
      "Epoch: 3/4\n",
      "----------\n",
      "For: train\n"
     ]
    },
    {
     "name": "stderr",
     "output_type": "stream",
     "text": [
      "100%|██████████| 706/706 [02:49<00:00,  4.17it/s]\n"
     ]
    },
    {
     "name": "stdout",
     "output_type": "stream",
     "text": [
      "train Loss: 18.0891 Acc: 22.9079\n",
      "For: val\n"
     ]
    },
    {
     "name": "stderr",
     "output_type": "stream",
     "text": [
      "100%|██████████| 38/38 [00:05<00:00,  6.48it/s]\n"
     ]
    },
    {
     "name": "stdout",
     "output_type": "stream",
     "text": [
      "val Loss: 44.1247 Acc: 19.9737\n",
      "Epoch: 4/4\n",
      "----------\n",
      "For: train\n"
     ]
    },
    {
     "name": "stderr",
     "output_type": "stream",
     "text": [
      "100%|██████████| 706/706 [02:58<00:00,  3.97it/s]\n"
     ]
    },
    {
     "name": "stdout",
     "output_type": "stream",
     "text": [
      "train Loss: 17.1755 Acc: 23.5198\n",
      "For: val\n"
     ]
    },
    {
     "name": "stderr",
     "output_type": "stream",
     "text": [
      "100%|██████████| 38/38 [00:06<00:00,  6.22it/s]"
     ]
    },
    {
     "name": "stdout",
     "output_type": "stream",
     "text": [
      "val Loss: 47.2904 Acc: 16.1316\n",
      "Time spent: 909.8950083255768\n"
     ]
    },
    {
     "name": "stderr",
     "output_type": "stream",
     "text": [
      "\n"
     ]
    }
   ],
   "source": [
    "trained = train_model(res_50_model, criterion, optimizer)"
   ]
  },
  {
   "cell_type": "code",
   "execution_count": null,
   "metadata": {},
   "outputs": [],
   "source": []
  },
  {
   "cell_type": "code",
   "execution_count": null,
   "metadata": {},
   "outputs": [],
   "source": []
  }
 ],
 "metadata": {
  "kernelspec": {
   "display_name": "Python 3",
   "language": "python",
   "name": "python3"
  },
  "language_info": {
   "codemirror_mode": {
    "name": "ipython",
    "version": 3
   },
   "file_extension": ".py",
   "mimetype": "text/x-python",
   "name": "python",
   "nbconvert_exporter": "python",
   "pygments_lexer": "ipython3",
   "version": "3.8.10"
  },
  "orig_nbformat": 4
 },
 "nbformat": 4,
 "nbformat_minor": 2
}
